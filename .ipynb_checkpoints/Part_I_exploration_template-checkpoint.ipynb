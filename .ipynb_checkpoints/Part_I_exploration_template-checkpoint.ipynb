{
 "cells": [
  {
   "cell_type": "markdown",
   "metadata": {},
   "source": [
    "# Part I - Prosper Loan Data Exploratory Analysis\n",
    "## by Victor Oguche\n",
    "\n",
    "## Introduction\n",
    "The Prosper Loan dataset is a collection of loan records.\n",
    "Using the Prosper Loan dataset, Exploratory and Explanatory analysis will be carried out with the aim of finding trends, patterns and insight from the loan dataset.\n",
    "\n",
    "To achieve this, the following questions will be answered in the analysis:\n",
    "\n",
    "## Preliminary Wrangling\n"
   ]
  },
  {
   "cell_type": "code",
   "execution_count": 1,
   "metadata": {},
   "outputs": [],
   "source": [
    "# import all packages and set plots to be embedded inline\n",
    "import numpy as np\n",
    "import pandas as pd\n",
    "import matplotlib.pyplot as plt\n",
    "import seaborn as sb\n",
    "\n",
    "%matplotlib inline"
   ]
  },
  {
   "cell_type": "markdown",
   "metadata": {},
   "source": [
    "> Load in your dataset and describe its properties through the questions below. Try and motivate your exploration goals through this section.\n"
   ]
  },
  {
   "cell_type": "code",
   "execution_count": 2,
   "metadata": {},
   "outputs": [],
   "source": [
    "# load in the dataset into a pandas dataframe\n",
    "df_loan = pd.read_csv('prosperLoanData.csv')"
   ]
  },
  {
   "cell_type": "markdown",
   "metadata": {},
   "source": [
    "## Assessing Data\n",
    "Assessing collected dataset"
   ]
  },
  {
   "cell_type": "code",
   "execution_count": 3,
   "metadata": {},
   "outputs": [
    {
     "data": {
      "text/plain": [
       "(113937, 81)"
      ]
     },
     "execution_count": 3,
     "metadata": {},
     "output_type": "execute_result"
    }
   ],
   "source": [
    "# high-level overview of data shape and composition\n",
    "df_loan.shape"
   ]
  },
  {
   "cell_type": "code",
   "execution_count": 4,
   "metadata": {},
   "outputs": [
    {
     "data": {
      "text/html": [
       "<div>\n",
       "<style scoped>\n",
       "    .dataframe tbody tr th:only-of-type {\n",
       "        vertical-align: middle;\n",
       "    }\n",
       "\n",
       "    .dataframe tbody tr th {\n",
       "        vertical-align: top;\n",
       "    }\n",
       "\n",
       "    .dataframe thead th {\n",
       "        text-align: right;\n",
       "    }\n",
       "</style>\n",
       "<table border=\"1\" class=\"dataframe\">\n",
       "  <thead>\n",
       "    <tr style=\"text-align: right;\">\n",
       "      <th></th>\n",
       "      <th>ListingKey</th>\n",
       "      <th>ListingNumber</th>\n",
       "      <th>ListingCreationDate</th>\n",
       "      <th>CreditGrade</th>\n",
       "      <th>Term</th>\n",
       "      <th>LoanStatus</th>\n",
       "      <th>ClosedDate</th>\n",
       "      <th>BorrowerAPR</th>\n",
       "      <th>BorrowerRate</th>\n",
       "      <th>LenderYield</th>\n",
       "      <th>...</th>\n",
       "      <th>LP_ServiceFees</th>\n",
       "      <th>LP_CollectionFees</th>\n",
       "      <th>LP_GrossPrincipalLoss</th>\n",
       "      <th>LP_NetPrincipalLoss</th>\n",
       "      <th>LP_NonPrincipalRecoverypayments</th>\n",
       "      <th>PercentFunded</th>\n",
       "      <th>Recommendations</th>\n",
       "      <th>InvestmentFromFriendsCount</th>\n",
       "      <th>InvestmentFromFriendsAmount</th>\n",
       "      <th>Investors</th>\n",
       "    </tr>\n",
       "  </thead>\n",
       "  <tbody>\n",
       "    <tr>\n",
       "      <th>0</th>\n",
       "      <td>1021339766868145413AB3B</td>\n",
       "      <td>193129</td>\n",
       "      <td>2007-08-26 19:09:29.263000000</td>\n",
       "      <td>C</td>\n",
       "      <td>36</td>\n",
       "      <td>Completed</td>\n",
       "      <td>2009-08-14 00:00:00</td>\n",
       "      <td>0.16516</td>\n",
       "      <td>0.1580</td>\n",
       "      <td>0.1380</td>\n",
       "      <td>...</td>\n",
       "      <td>-133.18</td>\n",
       "      <td>0.0</td>\n",
       "      <td>0.0</td>\n",
       "      <td>0.0</td>\n",
       "      <td>0.0</td>\n",
       "      <td>1.0</td>\n",
       "      <td>0</td>\n",
       "      <td>0</td>\n",
       "      <td>0.0</td>\n",
       "      <td>258</td>\n",
       "    </tr>\n",
       "    <tr>\n",
       "      <th>1</th>\n",
       "      <td>10273602499503308B223C1</td>\n",
       "      <td>1209647</td>\n",
       "      <td>2014-02-27 08:28:07.900000000</td>\n",
       "      <td>NaN</td>\n",
       "      <td>36</td>\n",
       "      <td>Current</td>\n",
       "      <td>NaN</td>\n",
       "      <td>0.12016</td>\n",
       "      <td>0.0920</td>\n",
       "      <td>0.0820</td>\n",
       "      <td>...</td>\n",
       "      <td>0.00</td>\n",
       "      <td>0.0</td>\n",
       "      <td>0.0</td>\n",
       "      <td>0.0</td>\n",
       "      <td>0.0</td>\n",
       "      <td>1.0</td>\n",
       "      <td>0</td>\n",
       "      <td>0</td>\n",
       "      <td>0.0</td>\n",
       "      <td>1</td>\n",
       "    </tr>\n",
       "    <tr>\n",
       "      <th>2</th>\n",
       "      <td>0EE9337825851032864889A</td>\n",
       "      <td>81716</td>\n",
       "      <td>2007-01-05 15:00:47.090000000</td>\n",
       "      <td>HR</td>\n",
       "      <td>36</td>\n",
       "      <td>Completed</td>\n",
       "      <td>2009-12-17 00:00:00</td>\n",
       "      <td>0.28269</td>\n",
       "      <td>0.2750</td>\n",
       "      <td>0.2400</td>\n",
       "      <td>...</td>\n",
       "      <td>-24.20</td>\n",
       "      <td>0.0</td>\n",
       "      <td>0.0</td>\n",
       "      <td>0.0</td>\n",
       "      <td>0.0</td>\n",
       "      <td>1.0</td>\n",
       "      <td>0</td>\n",
       "      <td>0</td>\n",
       "      <td>0.0</td>\n",
       "      <td>41</td>\n",
       "    </tr>\n",
       "    <tr>\n",
       "      <th>3</th>\n",
       "      <td>0EF5356002482715299901A</td>\n",
       "      <td>658116</td>\n",
       "      <td>2012-10-22 11:02:35.010000000</td>\n",
       "      <td>NaN</td>\n",
       "      <td>36</td>\n",
       "      <td>Current</td>\n",
       "      <td>NaN</td>\n",
       "      <td>0.12528</td>\n",
       "      <td>0.0974</td>\n",
       "      <td>0.0874</td>\n",
       "      <td>...</td>\n",
       "      <td>-108.01</td>\n",
       "      <td>0.0</td>\n",
       "      <td>0.0</td>\n",
       "      <td>0.0</td>\n",
       "      <td>0.0</td>\n",
       "      <td>1.0</td>\n",
       "      <td>0</td>\n",
       "      <td>0</td>\n",
       "      <td>0.0</td>\n",
       "      <td>158</td>\n",
       "    </tr>\n",
       "    <tr>\n",
       "      <th>4</th>\n",
       "      <td>0F023589499656230C5E3E2</td>\n",
       "      <td>909464</td>\n",
       "      <td>2013-09-14 18:38:39.097000000</td>\n",
       "      <td>NaN</td>\n",
       "      <td>36</td>\n",
       "      <td>Current</td>\n",
       "      <td>NaN</td>\n",
       "      <td>0.24614</td>\n",
       "      <td>0.2085</td>\n",
       "      <td>0.1985</td>\n",
       "      <td>...</td>\n",
       "      <td>-60.27</td>\n",
       "      <td>0.0</td>\n",
       "      <td>0.0</td>\n",
       "      <td>0.0</td>\n",
       "      <td>0.0</td>\n",
       "      <td>1.0</td>\n",
       "      <td>0</td>\n",
       "      <td>0</td>\n",
       "      <td>0.0</td>\n",
       "      <td>20</td>\n",
       "    </tr>\n",
       "    <tr>\n",
       "      <th>5</th>\n",
       "      <td>0F05359734824199381F61D</td>\n",
       "      <td>1074836</td>\n",
       "      <td>2013-12-14 08:26:37.093000000</td>\n",
       "      <td>NaN</td>\n",
       "      <td>60</td>\n",
       "      <td>Current</td>\n",
       "      <td>NaN</td>\n",
       "      <td>0.15425</td>\n",
       "      <td>0.1314</td>\n",
       "      <td>0.1214</td>\n",
       "      <td>...</td>\n",
       "      <td>-25.33</td>\n",
       "      <td>0.0</td>\n",
       "      <td>0.0</td>\n",
       "      <td>0.0</td>\n",
       "      <td>0.0</td>\n",
       "      <td>1.0</td>\n",
       "      <td>0</td>\n",
       "      <td>0</td>\n",
       "      <td>0.0</td>\n",
       "      <td>1</td>\n",
       "    </tr>\n",
       "    <tr>\n",
       "      <th>6</th>\n",
       "      <td>0F0A3576754255009D63151</td>\n",
       "      <td>750899</td>\n",
       "      <td>2013-04-12 09:52:56.147000000</td>\n",
       "      <td>NaN</td>\n",
       "      <td>36</td>\n",
       "      <td>Current</td>\n",
       "      <td>NaN</td>\n",
       "      <td>0.31032</td>\n",
       "      <td>0.2712</td>\n",
       "      <td>0.2612</td>\n",
       "      <td>...</td>\n",
       "      <td>-22.95</td>\n",
       "      <td>0.0</td>\n",
       "      <td>0.0</td>\n",
       "      <td>0.0</td>\n",
       "      <td>0.0</td>\n",
       "      <td>1.0</td>\n",
       "      <td>0</td>\n",
       "      <td>0</td>\n",
       "      <td>0.0</td>\n",
       "      <td>1</td>\n",
       "    </tr>\n",
       "    <tr>\n",
       "      <th>7</th>\n",
       "      <td>0F1035772717087366F9EA7</td>\n",
       "      <td>768193</td>\n",
       "      <td>2013-05-05 06:49:27.493000000</td>\n",
       "      <td>NaN</td>\n",
       "      <td>36</td>\n",
       "      <td>Current</td>\n",
       "      <td>NaN</td>\n",
       "      <td>0.23939</td>\n",
       "      <td>0.2019</td>\n",
       "      <td>0.1919</td>\n",
       "      <td>...</td>\n",
       "      <td>-69.21</td>\n",
       "      <td>0.0</td>\n",
       "      <td>0.0</td>\n",
       "      <td>0.0</td>\n",
       "      <td>0.0</td>\n",
       "      <td>1.0</td>\n",
       "      <td>0</td>\n",
       "      <td>0</td>\n",
       "      <td>0.0</td>\n",
       "      <td>1</td>\n",
       "    </tr>\n",
       "    <tr>\n",
       "      <th>8</th>\n",
       "      <td>0F043596202561788EA13D5</td>\n",
       "      <td>1023355</td>\n",
       "      <td>2013-12-02 10:43:39.117000000</td>\n",
       "      <td>NaN</td>\n",
       "      <td>36</td>\n",
       "      <td>Current</td>\n",
       "      <td>NaN</td>\n",
       "      <td>0.07620</td>\n",
       "      <td>0.0629</td>\n",
       "      <td>0.0529</td>\n",
       "      <td>...</td>\n",
       "      <td>-16.77</td>\n",
       "      <td>0.0</td>\n",
       "      <td>0.0</td>\n",
       "      <td>0.0</td>\n",
       "      <td>0.0</td>\n",
       "      <td>1.0</td>\n",
       "      <td>0</td>\n",
       "      <td>0</td>\n",
       "      <td>0.0</td>\n",
       "      <td>1</td>\n",
       "    </tr>\n",
       "    <tr>\n",
       "      <th>9</th>\n",
       "      <td>0F043596202561788EA13D5</td>\n",
       "      <td>1023355</td>\n",
       "      <td>2013-12-02 10:43:39.117000000</td>\n",
       "      <td>NaN</td>\n",
       "      <td>36</td>\n",
       "      <td>Current</td>\n",
       "      <td>NaN</td>\n",
       "      <td>0.07620</td>\n",
       "      <td>0.0629</td>\n",
       "      <td>0.0529</td>\n",
       "      <td>...</td>\n",
       "      <td>-16.77</td>\n",
       "      <td>0.0</td>\n",
       "      <td>0.0</td>\n",
       "      <td>0.0</td>\n",
       "      <td>0.0</td>\n",
       "      <td>1.0</td>\n",
       "      <td>0</td>\n",
       "      <td>0</td>\n",
       "      <td>0.0</td>\n",
       "      <td>1</td>\n",
       "    </tr>\n",
       "  </tbody>\n",
       "</table>\n",
       "<p>10 rows × 81 columns</p>\n",
       "</div>"
      ],
      "text/plain": [
       "                ListingKey  ListingNumber            ListingCreationDate  \\\n",
       "0  1021339766868145413AB3B         193129  2007-08-26 19:09:29.263000000   \n",
       "1  10273602499503308B223C1        1209647  2014-02-27 08:28:07.900000000   \n",
       "2  0EE9337825851032864889A          81716  2007-01-05 15:00:47.090000000   \n",
       "3  0EF5356002482715299901A         658116  2012-10-22 11:02:35.010000000   \n",
       "4  0F023589499656230C5E3E2         909464  2013-09-14 18:38:39.097000000   \n",
       "5  0F05359734824199381F61D        1074836  2013-12-14 08:26:37.093000000   \n",
       "6  0F0A3576754255009D63151         750899  2013-04-12 09:52:56.147000000   \n",
       "7  0F1035772717087366F9EA7         768193  2013-05-05 06:49:27.493000000   \n",
       "8  0F043596202561788EA13D5        1023355  2013-12-02 10:43:39.117000000   \n",
       "9  0F043596202561788EA13D5        1023355  2013-12-02 10:43:39.117000000   \n",
       "\n",
       "  CreditGrade  Term LoanStatus           ClosedDate  BorrowerAPR  \\\n",
       "0           C    36  Completed  2009-08-14 00:00:00      0.16516   \n",
       "1         NaN    36    Current                  NaN      0.12016   \n",
       "2          HR    36  Completed  2009-12-17 00:00:00      0.28269   \n",
       "3         NaN    36    Current                  NaN      0.12528   \n",
       "4         NaN    36    Current                  NaN      0.24614   \n",
       "5         NaN    60    Current                  NaN      0.15425   \n",
       "6         NaN    36    Current                  NaN      0.31032   \n",
       "7         NaN    36    Current                  NaN      0.23939   \n",
       "8         NaN    36    Current                  NaN      0.07620   \n",
       "9         NaN    36    Current                  NaN      0.07620   \n",
       "\n",
       "   BorrowerRate  LenderYield  ...  LP_ServiceFees  LP_CollectionFees  \\\n",
       "0        0.1580       0.1380  ...         -133.18                0.0   \n",
       "1        0.0920       0.0820  ...            0.00                0.0   \n",
       "2        0.2750       0.2400  ...          -24.20                0.0   \n",
       "3        0.0974       0.0874  ...         -108.01                0.0   \n",
       "4        0.2085       0.1985  ...          -60.27                0.0   \n",
       "5        0.1314       0.1214  ...          -25.33                0.0   \n",
       "6        0.2712       0.2612  ...          -22.95                0.0   \n",
       "7        0.2019       0.1919  ...          -69.21                0.0   \n",
       "8        0.0629       0.0529  ...          -16.77                0.0   \n",
       "9        0.0629       0.0529  ...          -16.77                0.0   \n",
       "\n",
       "   LP_GrossPrincipalLoss  LP_NetPrincipalLoss LP_NonPrincipalRecoverypayments  \\\n",
       "0                    0.0                  0.0                             0.0   \n",
       "1                    0.0                  0.0                             0.0   \n",
       "2                    0.0                  0.0                             0.0   \n",
       "3                    0.0                  0.0                             0.0   \n",
       "4                    0.0                  0.0                             0.0   \n",
       "5                    0.0                  0.0                             0.0   \n",
       "6                    0.0                  0.0                             0.0   \n",
       "7                    0.0                  0.0                             0.0   \n",
       "8                    0.0                  0.0                             0.0   \n",
       "9                    0.0                  0.0                             0.0   \n",
       "\n",
       "   PercentFunded  Recommendations InvestmentFromFriendsCount  \\\n",
       "0            1.0                0                          0   \n",
       "1            1.0                0                          0   \n",
       "2            1.0                0                          0   \n",
       "3            1.0                0                          0   \n",
       "4            1.0                0                          0   \n",
       "5            1.0                0                          0   \n",
       "6            1.0                0                          0   \n",
       "7            1.0                0                          0   \n",
       "8            1.0                0                          0   \n",
       "9            1.0                0                          0   \n",
       "\n",
       "  InvestmentFromFriendsAmount Investors  \n",
       "0                         0.0       258  \n",
       "1                         0.0         1  \n",
       "2                         0.0        41  \n",
       "3                         0.0       158  \n",
       "4                         0.0        20  \n",
       "5                         0.0         1  \n",
       "6                         0.0         1  \n",
       "7                         0.0         1  \n",
       "8                         0.0         1  \n",
       "9                         0.0         1  \n",
       "\n",
       "[10 rows x 81 columns]"
      ]
     },
     "execution_count": 4,
     "metadata": {},
     "output_type": "execute_result"
    }
   ],
   "source": [
    "df_loan.head(10)"
   ]
  },
  {
   "cell_type": "code",
   "execution_count": 5,
   "metadata": {},
   "outputs": [
    {
     "name": "stdout",
     "output_type": "stream",
     "text": [
      "<class 'pandas.core.frame.DataFrame'>\n",
      "RangeIndex: 113937 entries, 0 to 113936\n",
      "Data columns (total 81 columns):\n",
      " #   Column                               Non-Null Count   Dtype  \n",
      "---  ------                               --------------   -----  \n",
      " 0   ListingKey                           113937 non-null  object \n",
      " 1   ListingNumber                        113937 non-null  int64  \n",
      " 2   ListingCreationDate                  113937 non-null  object \n",
      " 3   CreditGrade                          28953 non-null   object \n",
      " 4   Term                                 113937 non-null  int64  \n",
      " 5   LoanStatus                           113937 non-null  object \n",
      " 6   ClosedDate                           55089 non-null   object \n",
      " 7   BorrowerAPR                          113912 non-null  float64\n",
      " 8   BorrowerRate                         113937 non-null  float64\n",
      " 9   LenderYield                          113937 non-null  float64\n",
      " 10  EstimatedEffectiveYield              84853 non-null   float64\n",
      " 11  EstimatedLoss                        84853 non-null   float64\n",
      " 12  EstimatedReturn                      84853 non-null   float64\n",
      " 13  ProsperRating (numeric)              84853 non-null   float64\n",
      " 14  ProsperRating (Alpha)                84853 non-null   object \n",
      " 15  ProsperScore                         84853 non-null   float64\n",
      " 16  ListingCategory (numeric)            113937 non-null  int64  \n",
      " 17  BorrowerState                        108422 non-null  object \n",
      " 18  Occupation                           110349 non-null  object \n",
      " 19  EmploymentStatus                     111682 non-null  object \n",
      " 20  EmploymentStatusDuration             106312 non-null  float64\n",
      " 21  IsBorrowerHomeowner                  113937 non-null  bool   \n",
      " 22  CurrentlyInGroup                     113937 non-null  bool   \n",
      " 23  GroupKey                             13341 non-null   object \n",
      " 24  DateCreditPulled                     113937 non-null  object \n",
      " 25  CreditScoreRangeLower                113346 non-null  float64\n",
      " 26  CreditScoreRangeUpper                113346 non-null  float64\n",
      " 27  FirstRecordedCreditLine              113240 non-null  object \n",
      " 28  CurrentCreditLines                   106333 non-null  float64\n",
      " 29  OpenCreditLines                      106333 non-null  float64\n",
      " 30  TotalCreditLinespast7years           113240 non-null  float64\n",
      " 31  OpenRevolvingAccounts                113937 non-null  int64  \n",
      " 32  OpenRevolvingMonthlyPayment          113937 non-null  float64\n",
      " 33  InquiriesLast6Months                 113240 non-null  float64\n",
      " 34  TotalInquiries                       112778 non-null  float64\n",
      " 35  CurrentDelinquencies                 113240 non-null  float64\n",
      " 36  AmountDelinquent                     106315 non-null  float64\n",
      " 37  DelinquenciesLast7Years              112947 non-null  float64\n",
      " 38  PublicRecordsLast10Years             113240 non-null  float64\n",
      " 39  PublicRecordsLast12Months            106333 non-null  float64\n",
      " 40  RevolvingCreditBalance               106333 non-null  float64\n",
      " 41  BankcardUtilization                  106333 non-null  float64\n",
      " 42  AvailableBankcardCredit              106393 non-null  float64\n",
      " 43  TotalTrades                          106393 non-null  float64\n",
      " 44  TradesNeverDelinquent (percentage)   106393 non-null  float64\n",
      " 45  TradesOpenedLast6Months              106393 non-null  float64\n",
      " 46  DebtToIncomeRatio                    105383 non-null  float64\n",
      " 47  IncomeRange                          113937 non-null  object \n",
      " 48  IncomeVerifiable                     113937 non-null  bool   \n",
      " 49  StatedMonthlyIncome                  113937 non-null  float64\n",
      " 50  LoanKey                              113937 non-null  object \n",
      " 51  TotalProsperLoans                    22085 non-null   float64\n",
      " 52  TotalProsperPaymentsBilled           22085 non-null   float64\n",
      " 53  OnTimeProsperPayments                22085 non-null   float64\n",
      " 54  ProsperPaymentsLessThanOneMonthLate  22085 non-null   float64\n",
      " 55  ProsperPaymentsOneMonthPlusLate      22085 non-null   float64\n",
      " 56  ProsperPrincipalBorrowed             22085 non-null   float64\n",
      " 57  ProsperPrincipalOutstanding          22085 non-null   float64\n",
      " 58  ScorexChangeAtTimeOfListing          18928 non-null   float64\n",
      " 59  LoanCurrentDaysDelinquent            113937 non-null  int64  \n",
      " 60  LoanFirstDefaultedCycleNumber        16952 non-null   float64\n",
      " 61  LoanMonthsSinceOrigination           113937 non-null  int64  \n",
      " 62  LoanNumber                           113937 non-null  int64  \n",
      " 63  LoanOriginalAmount                   113937 non-null  int64  \n",
      " 64  LoanOriginationDate                  113937 non-null  object \n",
      " 65  LoanOriginationQuarter               113937 non-null  object \n",
      " 66  MemberKey                            113937 non-null  object \n",
      " 67  MonthlyLoanPayment                   113937 non-null  float64\n",
      " 68  LP_CustomerPayments                  113937 non-null  float64\n",
      " 69  LP_CustomerPrincipalPayments         113937 non-null  float64\n",
      " 70  LP_InterestandFees                   113937 non-null  float64\n",
      " 71  LP_ServiceFees                       113937 non-null  float64\n",
      " 72  LP_CollectionFees                    113937 non-null  float64\n",
      " 73  LP_GrossPrincipalLoss                113937 non-null  float64\n",
      " 74  LP_NetPrincipalLoss                  113937 non-null  float64\n",
      " 75  LP_NonPrincipalRecoverypayments      113937 non-null  float64\n",
      " 76  PercentFunded                        113937 non-null  float64\n",
      " 77  Recommendations                      113937 non-null  int64  \n",
      " 78  InvestmentFromFriendsCount           113937 non-null  int64  \n",
      " 79  InvestmentFromFriendsAmount          113937 non-null  float64\n",
      " 80  Investors                            113937 non-null  int64  \n",
      "dtypes: bool(3), float64(50), int64(11), object(17)\n",
      "memory usage: 68.1+ MB\n"
     ]
    }
   ],
   "source": [
    "df_loan.info()"
   ]
  },
  {
   "cell_type": "code",
   "execution_count": 6,
   "metadata": {},
   "outputs": [],
   "source": [
    "# Drop columns not needed in the exploration and analysis\n",
    "df_loan = df_loan.drop(['ListingKey','ListingNumber',\n",
    "'ScorexChangeAtTimeOfListing',\n",
    "'ListingCreationDate',\n",
    "'CreditGrade',\n",
    "'ClosedDate',\n",
    "'ProsperRating (numeric)',\n",
    "'EmploymentStatusDuration',\n",
    "'CurrentlyInGroup',\n",
    "'GroupKey',\n",
    "'DateCreditPulled',\n",
    "'CreditScoreRangeLower',\n",
    "'CreditScoreRangeUpper',\n",
    "'FirstRecordedCreditLine',\n",
    "'CurrentCreditLines',\n",
    "'OpenCreditLines',\n",
    "'TotalCreditLinespast7years',\n",
    "'OpenRevolvingAccounts',\n",
    "'OpenRevolvingMonthlyPayment',\n",
    "'InquiriesLast6Months',\n",
    "'TotalInquiries',\n",
    "'PublicRecordsLast10Years',\n",
    "'PublicRecordsLast12Months',\n",
    "'RevolvingCreditBalance',\n",
    "'BankcardUtilization',\n",
    "'TotalTrades',\n",
    "'TradesNeverDelinquent (percentage)',\n",
    "'TradesOpenedLast6Months',\n",
    "'LoanKey',\n",
    "'LoanFirstDefaultedCycleNumber',\n",
    "'LoanMonthsSinceOrigination',\n",
    "'LoanNumber',\n",
    "'LoanOriginationDate',\n",
    "'LoanOriginationQuarter',\n",
    "'MemberKey',\n",
    "'LP_CustomerPayments',\n",
    "'LP_CustomerPrincipalPayments',\n",
    "'LP_InterestandFees',\n",
    "'LP_ServiceFees',\n",
    "'LP_CollectionFees',\n",
    "'LP_GrossPrincipalLoss',\n",
    "'LP_NetPrincipalLoss',\n",
    "'LP_NonPrincipalRecoverypayments',\n",
    "], axis = 1)"
   ]
  },
  {
   "cell_type": "code",
   "execution_count": 7,
   "metadata": {},
   "outputs": [
    {
     "name": "stdout",
     "output_type": "stream",
     "text": [
      "<class 'pandas.core.frame.DataFrame'>\n",
      "RangeIndex: 113937 entries, 0 to 113936\n",
      "Data columns (total 38 columns):\n",
      " #   Column                               Non-Null Count   Dtype  \n",
      "---  ------                               --------------   -----  \n",
      " 0   Term                                 113937 non-null  int64  \n",
      " 1   LoanStatus                           113937 non-null  object \n",
      " 2   BorrowerAPR                          113912 non-null  float64\n",
      " 3   BorrowerRate                         113937 non-null  float64\n",
      " 4   LenderYield                          113937 non-null  float64\n",
      " 5   EstimatedEffectiveYield              84853 non-null   float64\n",
      " 6   EstimatedLoss                        84853 non-null   float64\n",
      " 7   EstimatedReturn                      84853 non-null   float64\n",
      " 8   ProsperRating (Alpha)                84853 non-null   object \n",
      " 9   ProsperScore                         84853 non-null   float64\n",
      " 10  ListingCategory (numeric)            113937 non-null  int64  \n",
      " 11  BorrowerState                        108422 non-null  object \n",
      " 12  Occupation                           110349 non-null  object \n",
      " 13  EmploymentStatus                     111682 non-null  object \n",
      " 14  IsBorrowerHomeowner                  113937 non-null  bool   \n",
      " 15  CurrentDelinquencies                 113240 non-null  float64\n",
      " 16  AmountDelinquent                     106315 non-null  float64\n",
      " 17  DelinquenciesLast7Years              112947 non-null  float64\n",
      " 18  AvailableBankcardCredit              106393 non-null  float64\n",
      " 19  DebtToIncomeRatio                    105383 non-null  float64\n",
      " 20  IncomeRange                          113937 non-null  object \n",
      " 21  IncomeVerifiable                     113937 non-null  bool   \n",
      " 22  StatedMonthlyIncome                  113937 non-null  float64\n",
      " 23  TotalProsperLoans                    22085 non-null   float64\n",
      " 24  TotalProsperPaymentsBilled           22085 non-null   float64\n",
      " 25  OnTimeProsperPayments                22085 non-null   float64\n",
      " 26  ProsperPaymentsLessThanOneMonthLate  22085 non-null   float64\n",
      " 27  ProsperPaymentsOneMonthPlusLate      22085 non-null   float64\n",
      " 28  ProsperPrincipalBorrowed             22085 non-null   float64\n",
      " 29  ProsperPrincipalOutstanding          22085 non-null   float64\n",
      " 30  LoanCurrentDaysDelinquent            113937 non-null  int64  \n",
      " 31  LoanOriginalAmount                   113937 non-null  int64  \n",
      " 32  MonthlyLoanPayment                   113937 non-null  float64\n",
      " 33  PercentFunded                        113937 non-null  float64\n",
      " 34  Recommendations                      113937 non-null  int64  \n",
      " 35  InvestmentFromFriendsCount           113937 non-null  int64  \n",
      " 36  InvestmentFromFriendsAmount          113937 non-null  float64\n",
      " 37  Investors                            113937 non-null  int64  \n",
      "dtypes: bool(2), float64(23), int64(7), object(6)\n",
      "memory usage: 31.5+ MB\n"
     ]
    }
   ],
   "source": [
    "# view stat of retained columns\n",
    "df_loan.info()"
   ]
  },
  {
   "cell_type": "markdown",
   "metadata": {},
   "source": [
    "### Quality issues\n",
    "- Erroneous datatypes\n",
    "- prosper loan value for TotalProsperLoans,TotalProsperPaymentsBilled,OnTimeProsperPayments,ProsperPaymentsLessThanOneMonthLate, ProsperPaymentsOneMonthPlusLate,ProsperPrincipalBorrowed and ProsperPrincipalOutstanding  was null if the borrower has no prior loans. This is to be set to zero.\n",
    "- listing category is numeric. while they are classification. The category of the listing that the borrower selected when posting their listing: 0 - Not Available, 1 - Debt Consolidation, 2 - Home Improvement, 3 - Business, 4 - Personal Loan, 5 - Student Use, 6 - Auto, 7- Other, 8 - Baby&Adoption, 9 - Boat, 10 - Cosmetic Procedure, 11 - Engagement Ring, 12 - Green Loans, 13 - Household Expenses, 14 - Large Purchases, 15 - Medical/Dental, 16 - Motorcycle, 17 - RV, 18 - Taxes, 19 - Vacation, 20 - Wedding Loans"
   ]
  },
  {
   "cell_type": "code",
   "execution_count": 80,
   "metadata": {},
   "outputs": [],
   "source": [
    "# make a copy of dataset for cleaning\n",
    "df_loan_clean = df_loan.copy()"
   ]
  },
  {
   "cell_type": "markdown",
   "metadata": {},
   "source": [
    "### Issue:\n",
    "Erroneous datatypes"
   ]
  },
  {
   "attachments": {},
   "cell_type": "markdown",
   "metadata": {},
   "source": [
    "### Define:\n",
    "Correct the datatype for \n",
    "LoanStatus, \n",
    "ProsperRating, \n",
    "ListingCategory, \n",
    "EmploymentStatus, \n",
    "CurrentDelinquencies, \n",
    "DelinquenciesLast7Years, \n",
    "TotalProsperLoans, \n",
    "TotalProsperPaymentsBilled, \n",
    "OnTimeProsperPayments, \n",
    "ProsperPaymentsLessThanOneMonthLate, \n",
    "ProsperPaymentsOneMonthPlusLate, \n",
    "LoanOriginalAmount\n"
   ]
  },
  {
   "cell_type": "markdown",
   "metadata": {},
   "source": [
    "### Code:"
   ]
  },
  {
   "cell_type": "code",
   "execution_count": 81,
   "metadata": {},
   "outputs": [],
   "source": [
    "# Change wrong datatype\n",
    "df_loan_clean['CurrentDelinquencies'] = df_loan_clean['CurrentDelinquencies'].astype(int, errors ='ignore')\n",
    "df_loan_clean['DelinquenciesLast7Years'] = df_loan_clean['DelinquenciesLast7Years'].astype(int, errors ='ignore')\n",
    "df_loan_clean['TotalProsperLoans'] = df_loan_clean['TotalProsperLoans'].astype(int, errors ='ignore')\n",
    "df_loan_clean['TotalProsperPaymentsBilled'] = df_loan_clean['TotalProsperPaymentsBilled'].astype(int, errors ='ignore')\n",
    "df_loan_clean['OnTimeProsperPayments'] = df_loan_clean['OnTimeProsperPayments'].astype(int, errors ='ignore')\n",
    "df_loan_clean['ProsperPaymentsLessThanOneMonthLate'] = df_loan_clean['ProsperPaymentsLessThanOneMonthLate'].astype(int, errors ='ignore')\n",
    "df_loan_clean['ProsperPaymentsOneMonthPlusLate'] = df_loan_clean['ProsperPaymentsOneMonthPlusLate'].astype(int, errors ='ignore')\n",
    "df_loan_clean['LoanOriginalAmount'] = df_loan_clean['LoanOriginalAmount'].astype(float, errors ='ignore')"
   ]
  },
  {
   "cell_type": "code",
   "execution_count": 82,
   "metadata": {},
   "outputs": [],
   "source": [
    "#change datatype\n",
    "df_loan_clean['ListingCategory (numeric)'] = df_loan_clean['ListingCategory (numeric)'].astype(str)"
   ]
  },
  {
   "cell_type": "code",
   "execution_count": 83,
   "metadata": {},
   "outputs": [],
   "source": [
    "# convert ordinal columns into ordered categorical types\n",
    "ordinal_var_dict = {\n",
    "    'ProsperRating (Alpha)': ['HR','E','D','C','B', 'A','AA'],\n",
    "    'IncomeRange': ['Not displayed','Not employed', '$0','$1-24,999','$25,000-49,999', '$50,000-74,999', '$75,000-99,999', '$100,000+',]\n",
    "                   }\n",
    "\n",
    "for var in ordinal_var_dict:\n",
    "    ordered_var = pd.api.types.CategoricalDtype(ordered = True,\n",
    "                                                categories = ordinal_var_dict[var])\n",
    "    df_loan_clean[var] = df_loan_clean[var].astype(ordered_var)"
   ]
  },
  {
   "cell_type": "code",
   "execution_count": 84,
   "metadata": {},
   "outputs": [],
   "source": [
    "# convert Nominal columns into categorical types\n",
    "nominal_var_dict = { 'LoanStatus': ['Current', 'Completed', 'Past Due (1-15 days)', 'Defaulted',\n",
    "       'Chargedoff', 'Past Due (16-30 days)', 'Cancelled',\n",
    "       'Past Due (61-90 days)', 'Past Due (31-60 days)',\n",
    "       'Past Due (91-120 days)', 'FinalPaymentInProgress',\n",
    "       'Past Due (>120 days)'],\n",
    "    'ListingCategory (numeric)': ['0', '1','2', '3','4','5','6','7','8','9','10','11','12','13','14','15','16','17','18','19', '20'],\n",
    "    'EmploymentStatus': ['Self-employed', 'Employed', 'Not available', 'Full-time', 'Other', 'Not employed', 'Part-time', 'Retired'], 'BorrowerState': ['CO', 'GA', 'MN', 'NM', 'KS', 'CA', 'IL', 'MD', 'AL', 'AZ',\n",
    "       'VA', 'FL', 'PA', 'OR', 'MI', 'NY', 'LA', 'WI', 'OH', 'NC', 'WA',\n",
    "       'NV', 'NJ', 'TX', 'AR', 'SC', 'DE', 'MO', 'NE', 'UT', 'DC', 'MA',\n",
    "       'CT', 'IN', 'KY', 'OK', 'MS', 'WV', 'RI', 'TN', 'ID', 'MT', 'HI',\n",
    "       'NH', 'VT', 'WY', 'ME', 'AK', 'IA', 'SD', 'ND'],\n",
    "    'Occupation': ['Other', 'Professional', 'Skilled Labor', 'Executive',\n",
    "       'Sales - Retail', 'Laborer', 'Food Service', 'Fireman',\n",
    "       'Waiter/Waitress', 'Construction', 'Computer Programmer',\n",
    "       'Sales - Commission', 'Retail Management', 'Engineer - Mechanical',\n",
    "       'Military Enlisted', 'Clerical', 'Teacher', 'Clergy',\n",
    "       'Accountant/CPA', 'Attorney', 'Nurse (RN)', 'Analyst',\n",
    "       \"Nurse's Aide\", 'Investor', 'Realtor', 'Flight Attendant',\n",
    "       'Nurse (LPN)', 'Military Officer', 'Food Service Management',\n",
    "       'Truck Driver', 'Administrative Assistant',\n",
    "       'Police Officer/Correction Officer', 'Social Worker',\n",
    "       'Tradesman - Mechanic', 'Medical Technician', 'Professor',\n",
    "       'Postal Service', 'Civil Service', 'Pharmacist',\n",
    "       'Tradesman - Electrician', 'Scientist', 'Dentist',\n",
    "       'Engineer - Electrical', 'Architect', 'Landscaping',\n",
    "       'Tradesman - Carpenter', 'Bus Driver', 'Tradesman - Plumber',\n",
    "       'Engineer - Chemical', 'Doctor', 'Chemist',\n",
    "       'Student - College Senior', 'Principal', \"Teacher's Aide\",\n",
    "       'Pilot - Private/Commercial', 'Religious', 'Homemaker',\n",
    "       'Student - College Graduate Student', 'Student - Technical School',\n",
    "       'Psychologist', 'Biologist', 'Student - College Sophomore',\n",
    "       'Judge', 'Student - College Junior', 'Car Dealer',\n",
    "       'Student - Community College', 'Student - College Freshman']\n",
    "}\n",
    "\n",
    "for var in nominal_var_dict:\n",
    "    ordered_var = pd.api.types.CategoricalDtype( categories = nominal_var_dict[var])\n",
    "    df_loan_clean[var] = df_loan_clean[var].astype(ordered_var)"
   ]
  },
  {
   "cell_type": "markdown",
   "metadata": {},
   "source": [
    "### test:"
   ]
  },
  {
   "cell_type": "code",
   "execution_count": 85,
   "metadata": {},
   "outputs": [
    {
     "name": "stdout",
     "output_type": "stream",
     "text": [
      "<class 'pandas.core.frame.DataFrame'>\n",
      "RangeIndex: 113937 entries, 0 to 113936\n",
      "Data columns (total 38 columns):\n",
      " #   Column                               Non-Null Count   Dtype   \n",
      "---  ------                               --------------   -----   \n",
      " 0   Term                                 113937 non-null  int64   \n",
      " 1   LoanStatus                           113937 non-null  category\n",
      " 2   BorrowerAPR                          113912 non-null  float64 \n",
      " 3   BorrowerRate                         113937 non-null  float64 \n",
      " 4   LenderYield                          113937 non-null  float64 \n",
      " 5   EstimatedEffectiveYield              84853 non-null   float64 \n",
      " 6   EstimatedLoss                        84853 non-null   float64 \n",
      " 7   EstimatedReturn                      84853 non-null   float64 \n",
      " 8   ProsperRating (Alpha)                84853 non-null   category\n",
      " 9   ProsperScore                         84853 non-null   float64 \n",
      " 10  ListingCategory (numeric)            113937 non-null  category\n",
      " 11  BorrowerState                        108422 non-null  category\n",
      " 12  Occupation                           110349 non-null  category\n",
      " 13  EmploymentStatus                     111682 non-null  category\n",
      " 14  IsBorrowerHomeowner                  113937 non-null  bool    \n",
      " 15  CurrentDelinquencies                 113240 non-null  float64 \n",
      " 16  AmountDelinquent                     106315 non-null  float64 \n",
      " 17  DelinquenciesLast7Years              112947 non-null  float64 \n",
      " 18  AvailableBankcardCredit              106393 non-null  float64 \n",
      " 19  DebtToIncomeRatio                    105383 non-null  float64 \n",
      " 20  IncomeRange                          113937 non-null  category\n",
      " 21  IncomeVerifiable                     113937 non-null  bool    \n",
      " 22  StatedMonthlyIncome                  113937 non-null  float64 \n",
      " 23  TotalProsperLoans                    22085 non-null   float64 \n",
      " 24  TotalProsperPaymentsBilled           22085 non-null   float64 \n",
      " 25  OnTimeProsperPayments                22085 non-null   float64 \n",
      " 26  ProsperPaymentsLessThanOneMonthLate  22085 non-null   float64 \n",
      " 27  ProsperPaymentsOneMonthPlusLate      22085 non-null   float64 \n",
      " 28  ProsperPrincipalBorrowed             22085 non-null   float64 \n",
      " 29  ProsperPrincipalOutstanding          22085 non-null   float64 \n",
      " 30  LoanCurrentDaysDelinquent            113937 non-null  int64   \n",
      " 31  LoanOriginalAmount                   113937 non-null  float64 \n",
      " 32  MonthlyLoanPayment                   113937 non-null  float64 \n",
      " 33  PercentFunded                        113937 non-null  float64 \n",
      " 34  Recommendations                      113937 non-null  int64   \n",
      " 35  InvestmentFromFriendsCount           113937 non-null  int64   \n",
      " 36  InvestmentFromFriendsAmount          113937 non-null  float64 \n",
      " 37  Investors                            113937 non-null  int64   \n",
      "dtypes: bool(2), category(7), float64(24), int64(5)\n",
      "memory usage: 26.2 MB\n"
     ]
    }
   ],
   "source": [
    "#test\n",
    "df_loan_clean.info()"
   ]
  },
  {
   "cell_type": "markdown",
   "metadata": {},
   "source": [
    "### Issue:\n",
    "Null placed instead of zero if the borrower has no prior loans."
   ]
  },
  {
   "cell_type": "markdown",
   "metadata": {},
   "source": [
    "### Define:\n",
    "prosper loan value for TotalProsperLoans,TotalProsperPaymentsBilled,OnTimeProsperPayments,ProsperPaymentsLessThanOneMonthLate, ProsperPaymentsOneMonthPlusLate,ProsperPrincipalBorrowed and ProsperPrincipalOutstanding was null if the borrower has no prior loans. This is to be set to zero."
   ]
  },
  {
   "cell_type": "markdown",
   "metadata": {},
   "source": [
    "### Code:"
   ]
  },
  {
   "cell_type": "code",
   "execution_count": 86,
   "metadata": {},
   "outputs": [],
   "source": [
    "# from the dataset dictionary, value will be null if the borrower has no prior loans. so set null to zero for prosper based columns\n",
    "df_loan_clean['TotalProsperLoans'] = df_loan_clean['TotalProsperLoans'].fillna(0)\n",
    "df_loan_clean['TotalProsperPaymentsBilled'] = df_loan_clean['TotalProsperPaymentsBilled'].fillna(0)\n",
    "df_loan_clean['OnTimeProsperPayments'] = df_loan_clean['OnTimeProsperPayments'].fillna(0)\n",
    "df_loan_clean['ProsperPaymentsLessThanOneMonthLate'] = df_loan_clean['ProsperPaymentsLessThanOneMonthLate'].fillna(0)\n",
    "df_loan_clean['ProsperPaymentsOneMonthPlusLate'] = df_loan_clean['ProsperPaymentsOneMonthPlusLate'].fillna(0)\n",
    "df_loan_clean['ProsperPrincipalBorrowed'] = df_loan_clean['ProsperPrincipalBorrowed'].fillna(0)\n",
    "df_loan_clean['ProsperPrincipalOutstanding'] = df_loan_clean['ProsperPrincipalOutstanding'].fillna(0)"
   ]
  },
  {
   "cell_type": "markdown",
   "metadata": {},
   "source": [
    "### test:"
   ]
  },
  {
   "cell_type": "code",
   "execution_count": 87,
   "metadata": {
    "scrolled": true
   },
   "outputs": [
    {
     "name": "stdout",
     "output_type": "stream",
     "text": [
      "<class 'pandas.core.frame.DataFrame'>\n",
      "RangeIndex: 113937 entries, 0 to 113936\n",
      "Data columns (total 38 columns):\n",
      " #   Column                               Non-Null Count   Dtype   \n",
      "---  ------                               --------------   -----   \n",
      " 0   Term                                 113937 non-null  int64   \n",
      " 1   LoanStatus                           113937 non-null  category\n",
      " 2   BorrowerAPR                          113912 non-null  float64 \n",
      " 3   BorrowerRate                         113937 non-null  float64 \n",
      " 4   LenderYield                          113937 non-null  float64 \n",
      " 5   EstimatedEffectiveYield              84853 non-null   float64 \n",
      " 6   EstimatedLoss                        84853 non-null   float64 \n",
      " 7   EstimatedReturn                      84853 non-null   float64 \n",
      " 8   ProsperRating (Alpha)                84853 non-null   category\n",
      " 9   ProsperScore                         84853 non-null   float64 \n",
      " 10  ListingCategory (numeric)            113937 non-null  category\n",
      " 11  BorrowerState                        108422 non-null  category\n",
      " 12  Occupation                           110349 non-null  category\n",
      " 13  EmploymentStatus                     111682 non-null  category\n",
      " 14  IsBorrowerHomeowner                  113937 non-null  bool    \n",
      " 15  CurrentDelinquencies                 113240 non-null  float64 \n",
      " 16  AmountDelinquent                     106315 non-null  float64 \n",
      " 17  DelinquenciesLast7Years              112947 non-null  float64 \n",
      " 18  AvailableBankcardCredit              106393 non-null  float64 \n",
      " 19  DebtToIncomeRatio                    105383 non-null  float64 \n",
      " 20  IncomeRange                          113937 non-null  category\n",
      " 21  IncomeVerifiable                     113937 non-null  bool    \n",
      " 22  StatedMonthlyIncome                  113937 non-null  float64 \n",
      " 23  TotalProsperLoans                    113937 non-null  float64 \n",
      " 24  TotalProsperPaymentsBilled           113937 non-null  float64 \n",
      " 25  OnTimeProsperPayments                113937 non-null  float64 \n",
      " 26  ProsperPaymentsLessThanOneMonthLate  113937 non-null  float64 \n",
      " 27  ProsperPaymentsOneMonthPlusLate      113937 non-null  float64 \n",
      " 28  ProsperPrincipalBorrowed             113937 non-null  float64 \n",
      " 29  ProsperPrincipalOutstanding          113937 non-null  float64 \n",
      " 30  LoanCurrentDaysDelinquent            113937 non-null  int64   \n",
      " 31  LoanOriginalAmount                   113937 non-null  float64 \n",
      " 32  MonthlyLoanPayment                   113937 non-null  float64 \n",
      " 33  PercentFunded                        113937 non-null  float64 \n",
      " 34  Recommendations                      113937 non-null  int64   \n",
      " 35  InvestmentFromFriendsCount           113937 non-null  int64   \n",
      " 36  InvestmentFromFriendsAmount          113937 non-null  float64 \n",
      " 37  Investors                            113937 non-null  int64   \n",
      "dtypes: bool(2), category(7), float64(24), int64(5)\n",
      "memory usage: 26.2 MB\n"
     ]
    }
   ],
   "source": [
    "df_loan_clean.info()"
   ]
  },
  {
   "cell_type": "markdown",
   "metadata": {},
   "source": [
    "### Issue:\n",
    "ListingCategory (numeric) not interpreted in values "
   ]
  },
  {
   "cell_type": "markdown",
   "metadata": {},
   "source": [
    "### Define:\n",
    "Change ListingCategory (numeric) values to the specifications "
   ]
  },
  {
   "cell_type": "markdown",
   "metadata": {},
   "source": [
    "### Code:"
   ]
  },
  {
   "cell_type": "code",
   "execution_count": 88,
   "metadata": {},
   "outputs": [],
   "source": [
    "df_loan_clean['ListingCategory (numeric)'] = df_loan_clean['ListingCategory (numeric)'].replace(['0', '1','2', '3','4','5','6','7','8','9','10','11','12','13','14','15','16','17','18','19', '20'],\n",
    "                                                                                               ['Not Available', \n",
    "                                                                                                'Debt Consolidation', \n",
    "                                                                                                'Home Improvement',  'Business', 'Personal Loan', 'Student Use', 'Auto', 'Other', 'Baby&Adoption', \n",
    "                                                                                                'Boat',  'Cosmetic Procedure',  'Engagement Ring',  'Green Loans',  'Household Expenses', \n",
    "                                                                                                'Large Purchases',  'Medical/Dental',  'Motorcycle',  'RV',  'Taxes',  'Vacation',  'Wedding Loans'])"
   ]
  },
  {
   "cell_type": "code",
   "execution_count": 89,
   "metadata": {},
   "outputs": [],
   "source": [
    "# rename column\n",
    "df_loan_clean = df_loan_clean.rename(columns = {'ListingCategory (numeric)' : 'ListingCategory'})"
   ]
  },
  {
   "cell_type": "markdown",
   "metadata": {},
   "source": [
    "### test: "
   ]
  },
  {
   "cell_type": "code",
   "execution_count": 90,
   "metadata": {},
   "outputs": [
    {
     "data": {
      "text/plain": [
       "array(['Not Available', 'Home Improvement', 'Motorcycle',\n",
       "       'Debt Consolidation', 'Other', 'Household Expenses', 'Auto',\n",
       "       'Medical/Dental', 'Wedding Loans', 'Vacation', 'Business', 'Taxes',\n",
       "       'Baby&Adoption', 'Personal Loan', 'Engagement Ring',\n",
       "       'Large Purchases', 'Student Use', 'Boat', 'RV',\n",
       "       'Cosmetic Procedure', 'Green Loans'], dtype=object)"
      ]
     },
     "execution_count": 90,
     "metadata": {},
     "output_type": "execute_result"
    }
   ],
   "source": [
    "df_loan_clean['ListingCategory'].unique()"
   ]
  },
  {
   "cell_type": "code",
   "execution_count": 91,
   "metadata": {},
   "outputs": [
    {
     "data": {
      "text/html": [
       "<div>\n",
       "<style scoped>\n",
       "    .dataframe tbody tr th:only-of-type {\n",
       "        vertical-align: middle;\n",
       "    }\n",
       "\n",
       "    .dataframe tbody tr th {\n",
       "        vertical-align: top;\n",
       "    }\n",
       "\n",
       "    .dataframe thead th {\n",
       "        text-align: right;\n",
       "    }\n",
       "</style>\n",
       "<table border=\"1\" class=\"dataframe\">\n",
       "  <thead>\n",
       "    <tr style=\"text-align: right;\">\n",
       "      <th></th>\n",
       "      <th>Term</th>\n",
       "      <th>BorrowerAPR</th>\n",
       "      <th>BorrowerRate</th>\n",
       "      <th>LenderYield</th>\n",
       "      <th>EstimatedEffectiveYield</th>\n",
       "      <th>EstimatedLoss</th>\n",
       "      <th>EstimatedReturn</th>\n",
       "      <th>ProsperScore</th>\n",
       "      <th>CurrentDelinquencies</th>\n",
       "      <th>AmountDelinquent</th>\n",
       "      <th>...</th>\n",
       "      <th>ProsperPrincipalBorrowed</th>\n",
       "      <th>ProsperPrincipalOutstanding</th>\n",
       "      <th>LoanCurrentDaysDelinquent</th>\n",
       "      <th>LoanOriginalAmount</th>\n",
       "      <th>MonthlyLoanPayment</th>\n",
       "      <th>PercentFunded</th>\n",
       "      <th>Recommendations</th>\n",
       "      <th>InvestmentFromFriendsCount</th>\n",
       "      <th>InvestmentFromFriendsAmount</th>\n",
       "      <th>Investors</th>\n",
       "    </tr>\n",
       "  </thead>\n",
       "  <tbody>\n",
       "    <tr>\n",
       "      <th>count</th>\n",
       "      <td>113937.000000</td>\n",
       "      <td>113912.000000</td>\n",
       "      <td>113937.000000</td>\n",
       "      <td>113937.000000</td>\n",
       "      <td>84853.000000</td>\n",
       "      <td>84853.000000</td>\n",
       "      <td>84853.000000</td>\n",
       "      <td>84853.000000</td>\n",
       "      <td>113240.000000</td>\n",
       "      <td>106315.000000</td>\n",
       "      <td>...</td>\n",
       "      <td>113937.000000</td>\n",
       "      <td>113937.000000</td>\n",
       "      <td>113937.000000</td>\n",
       "      <td>113937.00000</td>\n",
       "      <td>113937.000000</td>\n",
       "      <td>113937.000000</td>\n",
       "      <td>113937.000000</td>\n",
       "      <td>113937.000000</td>\n",
       "      <td>113937.000000</td>\n",
       "      <td>113937.000000</td>\n",
       "    </tr>\n",
       "    <tr>\n",
       "      <th>mean</th>\n",
       "      <td>40.830248</td>\n",
       "      <td>0.218828</td>\n",
       "      <td>0.192764</td>\n",
       "      <td>0.182701</td>\n",
       "      <td>0.168661</td>\n",
       "      <td>0.080306</td>\n",
       "      <td>0.096068</td>\n",
       "      <td>5.950067</td>\n",
       "      <td>0.592052</td>\n",
       "      <td>984.507059</td>\n",
       "      <td>...</td>\n",
       "      <td>1642.232196</td>\n",
       "      <td>567.997952</td>\n",
       "      <td>152.816539</td>\n",
       "      <td>8337.01385</td>\n",
       "      <td>272.475783</td>\n",
       "      <td>0.998584</td>\n",
       "      <td>0.048027</td>\n",
       "      <td>0.023460</td>\n",
       "      <td>16.550751</td>\n",
       "      <td>80.475228</td>\n",
       "    </tr>\n",
       "    <tr>\n",
       "      <th>std</th>\n",
       "      <td>10.436212</td>\n",
       "      <td>0.080364</td>\n",
       "      <td>0.074818</td>\n",
       "      <td>0.074516</td>\n",
       "      <td>0.068467</td>\n",
       "      <td>0.046764</td>\n",
       "      <td>0.030403</td>\n",
       "      <td>2.376501</td>\n",
       "      <td>1.978707</td>\n",
       "      <td>7158.270157</td>\n",
       "      <td>...</td>\n",
       "      <td>4670.954909</td>\n",
       "      <td>2037.268511</td>\n",
       "      <td>466.320254</td>\n",
       "      <td>6245.80058</td>\n",
       "      <td>192.697812</td>\n",
       "      <td>0.017919</td>\n",
       "      <td>0.332353</td>\n",
       "      <td>0.232412</td>\n",
       "      <td>294.545422</td>\n",
       "      <td>103.239020</td>\n",
       "    </tr>\n",
       "    <tr>\n",
       "      <th>min</th>\n",
       "      <td>12.000000</td>\n",
       "      <td>0.006530</td>\n",
       "      <td>0.000000</td>\n",
       "      <td>-0.010000</td>\n",
       "      <td>-0.182700</td>\n",
       "      <td>0.004900</td>\n",
       "      <td>-0.182700</td>\n",
       "      <td>1.000000</td>\n",
       "      <td>0.000000</td>\n",
       "      <td>0.000000</td>\n",
       "      <td>...</td>\n",
       "      <td>0.000000</td>\n",
       "      <td>0.000000</td>\n",
       "      <td>0.000000</td>\n",
       "      <td>1000.00000</td>\n",
       "      <td>0.000000</td>\n",
       "      <td>0.700000</td>\n",
       "      <td>0.000000</td>\n",
       "      <td>0.000000</td>\n",
       "      <td>0.000000</td>\n",
       "      <td>1.000000</td>\n",
       "    </tr>\n",
       "    <tr>\n",
       "      <th>25%</th>\n",
       "      <td>36.000000</td>\n",
       "      <td>0.156290</td>\n",
       "      <td>0.134000</td>\n",
       "      <td>0.124200</td>\n",
       "      <td>0.115670</td>\n",
       "      <td>0.042400</td>\n",
       "      <td>0.074080</td>\n",
       "      <td>4.000000</td>\n",
       "      <td>0.000000</td>\n",
       "      <td>0.000000</td>\n",
       "      <td>...</td>\n",
       "      <td>0.000000</td>\n",
       "      <td>0.000000</td>\n",
       "      <td>0.000000</td>\n",
       "      <td>4000.00000</td>\n",
       "      <td>131.620000</td>\n",
       "      <td>1.000000</td>\n",
       "      <td>0.000000</td>\n",
       "      <td>0.000000</td>\n",
       "      <td>0.000000</td>\n",
       "      <td>2.000000</td>\n",
       "    </tr>\n",
       "    <tr>\n",
       "      <th>50%</th>\n",
       "      <td>36.000000</td>\n",
       "      <td>0.209760</td>\n",
       "      <td>0.184000</td>\n",
       "      <td>0.173000</td>\n",
       "      <td>0.161500</td>\n",
       "      <td>0.072400</td>\n",
       "      <td>0.091700</td>\n",
       "      <td>6.000000</td>\n",
       "      <td>0.000000</td>\n",
       "      <td>0.000000</td>\n",
       "      <td>...</td>\n",
       "      <td>0.000000</td>\n",
       "      <td>0.000000</td>\n",
       "      <td>0.000000</td>\n",
       "      <td>6500.00000</td>\n",
       "      <td>217.740000</td>\n",
       "      <td>1.000000</td>\n",
       "      <td>0.000000</td>\n",
       "      <td>0.000000</td>\n",
       "      <td>0.000000</td>\n",
       "      <td>44.000000</td>\n",
       "    </tr>\n",
       "    <tr>\n",
       "      <th>75%</th>\n",
       "      <td>36.000000</td>\n",
       "      <td>0.283810</td>\n",
       "      <td>0.250000</td>\n",
       "      <td>0.240000</td>\n",
       "      <td>0.224300</td>\n",
       "      <td>0.112000</td>\n",
       "      <td>0.116600</td>\n",
       "      <td>8.000000</td>\n",
       "      <td>0.000000</td>\n",
       "      <td>0.000000</td>\n",
       "      <td>...</td>\n",
       "      <td>0.000000</td>\n",
       "      <td>0.000000</td>\n",
       "      <td>0.000000</td>\n",
       "      <td>12000.00000</td>\n",
       "      <td>371.580000</td>\n",
       "      <td>1.000000</td>\n",
       "      <td>0.000000</td>\n",
       "      <td>0.000000</td>\n",
       "      <td>0.000000</td>\n",
       "      <td>115.000000</td>\n",
       "    </tr>\n",
       "    <tr>\n",
       "      <th>max</th>\n",
       "      <td>60.000000</td>\n",
       "      <td>0.512290</td>\n",
       "      <td>0.497500</td>\n",
       "      <td>0.492500</td>\n",
       "      <td>0.319900</td>\n",
       "      <td>0.366000</td>\n",
       "      <td>0.283700</td>\n",
       "      <td>11.000000</td>\n",
       "      <td>83.000000</td>\n",
       "      <td>463881.000000</td>\n",
       "      <td>...</td>\n",
       "      <td>72499.000000</td>\n",
       "      <td>23450.950000</td>\n",
       "      <td>2704.000000</td>\n",
       "      <td>35000.00000</td>\n",
       "      <td>2251.510000</td>\n",
       "      <td>1.012500</td>\n",
       "      <td>39.000000</td>\n",
       "      <td>33.000000</td>\n",
       "      <td>25000.000000</td>\n",
       "      <td>1189.000000</td>\n",
       "    </tr>\n",
       "  </tbody>\n",
       "</table>\n",
       "<p>8 rows × 29 columns</p>\n",
       "</div>"
      ],
      "text/plain": [
       "                Term    BorrowerAPR   BorrowerRate    LenderYield  \\\n",
       "count  113937.000000  113912.000000  113937.000000  113937.000000   \n",
       "mean       40.830248       0.218828       0.192764       0.182701   \n",
       "std        10.436212       0.080364       0.074818       0.074516   \n",
       "min        12.000000       0.006530       0.000000      -0.010000   \n",
       "25%        36.000000       0.156290       0.134000       0.124200   \n",
       "50%        36.000000       0.209760       0.184000       0.173000   \n",
       "75%        36.000000       0.283810       0.250000       0.240000   \n",
       "max        60.000000       0.512290       0.497500       0.492500   \n",
       "\n",
       "       EstimatedEffectiveYield  EstimatedLoss  EstimatedReturn  ProsperScore  \\\n",
       "count             84853.000000   84853.000000     84853.000000  84853.000000   \n",
       "mean                  0.168661       0.080306         0.096068      5.950067   \n",
       "std                   0.068467       0.046764         0.030403      2.376501   \n",
       "min                  -0.182700       0.004900        -0.182700      1.000000   \n",
       "25%                   0.115670       0.042400         0.074080      4.000000   \n",
       "50%                   0.161500       0.072400         0.091700      6.000000   \n",
       "75%                   0.224300       0.112000         0.116600      8.000000   \n",
       "max                   0.319900       0.366000         0.283700     11.000000   \n",
       "\n",
       "       CurrentDelinquencies  AmountDelinquent  ...  ProsperPrincipalBorrowed  \\\n",
       "count         113240.000000     106315.000000  ...             113937.000000   \n",
       "mean               0.592052        984.507059  ...               1642.232196   \n",
       "std                1.978707       7158.270157  ...               4670.954909   \n",
       "min                0.000000          0.000000  ...                  0.000000   \n",
       "25%                0.000000          0.000000  ...                  0.000000   \n",
       "50%                0.000000          0.000000  ...                  0.000000   \n",
       "75%                0.000000          0.000000  ...                  0.000000   \n",
       "max               83.000000     463881.000000  ...              72499.000000   \n",
       "\n",
       "       ProsperPrincipalOutstanding  LoanCurrentDaysDelinquent  \\\n",
       "count                113937.000000              113937.000000   \n",
       "mean                    567.997952                 152.816539   \n",
       "std                    2037.268511                 466.320254   \n",
       "min                       0.000000                   0.000000   \n",
       "25%                       0.000000                   0.000000   \n",
       "50%                       0.000000                   0.000000   \n",
       "75%                       0.000000                   0.000000   \n",
       "max                   23450.950000                2704.000000   \n",
       "\n",
       "       LoanOriginalAmount  MonthlyLoanPayment  PercentFunded  Recommendations  \\\n",
       "count        113937.00000       113937.000000  113937.000000    113937.000000   \n",
       "mean           8337.01385          272.475783       0.998584         0.048027   \n",
       "std            6245.80058          192.697812       0.017919         0.332353   \n",
       "min            1000.00000            0.000000       0.700000         0.000000   \n",
       "25%            4000.00000          131.620000       1.000000         0.000000   \n",
       "50%            6500.00000          217.740000       1.000000         0.000000   \n",
       "75%           12000.00000          371.580000       1.000000         0.000000   \n",
       "max           35000.00000         2251.510000       1.012500        39.000000   \n",
       "\n",
       "       InvestmentFromFriendsCount  InvestmentFromFriendsAmount      Investors  \n",
       "count               113937.000000                113937.000000  113937.000000  \n",
       "mean                     0.023460                    16.550751      80.475228  \n",
       "std                      0.232412                   294.545422     103.239020  \n",
       "min                      0.000000                     0.000000       1.000000  \n",
       "25%                      0.000000                     0.000000       2.000000  \n",
       "50%                      0.000000                     0.000000      44.000000  \n",
       "75%                      0.000000                     0.000000     115.000000  \n",
       "max                     33.000000                 25000.000000    1189.000000  \n",
       "\n",
       "[8 rows x 29 columns]"
      ]
     },
     "execution_count": 91,
     "metadata": {},
     "output_type": "execute_result"
    }
   ],
   "source": [
    "df_loan_clean.describe()"
   ]
  },
  {
   "cell_type": "markdown",
   "metadata": {},
   "source": [
    "### What is the structure of your dataset?\n",
    "\n",
    "> The Prosper loan dataset contains 113937 loan records and this analysis will make use of 38 features from the loan dataset. Most variables are numeric while 8 of the features are Nominal data and 3 Ordinal data.\n",
    "\n",
    "### What is/are the main feature(s) of interest in your dataset?\n",
    "\n",
    "> From this analysis, I am interested in finding features that are key in determining if a borrower is loan worthy.\n",
    "\n",
    "### What features in the dataset do you think will help support your investigation into your feature(s) of interest?\n",
    " \n",
    "> I expect that a borrower Stated Monthly Income should impact how much loan they can recieve. Also the Monthly Loan Payment intended is expected to have an impact on the original loan amount. Borrowers with high Prosper score are expected to have good loan history with higher loan original amount though this may not always be the case."
   ]
  },
  {
   "cell_type": "code",
   "execution_count": null,
   "metadata": {},
   "outputs": [],
   "source": []
  },
  {
   "cell_type": "markdown",
   "metadata": {},
   "source": [
    "## Univariate Exploration\n",
    "\n",
    "To start I will like to dive on the LoanOriginalAmount to see the loan amount distribution.\n",
    "\n"
   ]
  },
  {
   "cell_type": "code",
   "execution_count": 92,
   "metadata": {},
   "outputs": [
    {
     "data": {
      "text/plain": [
       "count    113937.00000\n",
       "mean       8337.01385\n",
       "std        6245.80058\n",
       "min        1000.00000\n",
       "25%        4000.00000\n",
       "50%        6500.00000\n",
       "75%       12000.00000\n",
       "max       35000.00000\n",
       "Name: LoanOriginalAmount, dtype: float64"
      ]
     },
     "execution_count": 92,
     "metadata": {},
     "output_type": "execute_result"
    }
   ],
   "source": [
    "#get an overview statistics of the column\n",
    "df_loan_clean['LoanOriginalAmount'].describe()"
   ]
  },
  {
   "cell_type": "code",
   "execution_count": 151,
   "metadata": {
    "scrolled": true
   },
   "outputs": [
    {
     "data": {
      "image/png": "[encoded data removed]",
      "text/plain": [
       "<Figure size 576x360 with 1 Axes>"
      ]
     },
     "metadata": {
      "needs_background": "light"
     },
     "output_type": "display_data"
    }
   ],
   "source": [
    "# Distribution view for LoanOriginalAmount\n",
    "binsize = 1000\n",
    "bins = np.arange(0, df_loan_clean['LoanOriginalAmount'].max()+binsize, binsize)\n",
    "\n",
    "plt.figure(figsize=[8, 5])\n",
    "plt.hist(data = df_loan_clean, x = 'LoanOriginalAmount', bins = bins)\n",
    "plt.xlabel('Loan Original Amount ($)')\n",
    "plt.show()"
   ]
  },
  {
   "cell_type": "code",
   "execution_count": 154,
   "metadata": {},
   "outputs": [
    {
     "data": {
      "image/png": "[encoded data removed]",
      "text/plain": [
       "<Figure size 576x360 with 1 Axes>"
      ]
     },
     "metadata": {
      "needs_background": "light"
     },
     "output_type": "display_data"
    }
   ],
   "source": [
    "# further investiagtion on smaller bin size\n",
    "binsize = 500\n",
    "bins = np.arange(0, df_loan_clean['LoanOriginalAmount'].max()+binsize, binsize)\n",
    "\n",
    "plt.figure(figsize=[8, 5])\n",
    "plt.hist(data = df_loan_clean, x = 'LoanOriginalAmount', bins = bins)\n",
    "plt.xlabel('Loan Original Amount ($)')\n",
    "plt.show()"
   ]
  },
  {
   "cell_type": "markdown",
   "metadata": {},
   "source": [
    ">Observations:\n",
    ">> There are about 3 major jump in the Loan Original Amount distribution. \n",
    ">> The chart is skewed to the right with high concentration on small loan ammount.\n",
    ">>Let's log transform the Loan Original Amount to get a more granular view of the distribution."
   ]
  },
  {
   "cell_type": "code",
   "execution_count": 152,
   "metadata": {},
   "outputs": [
    {
     "data": {
      "text/plain": [
       "count    5.056665\n",
       "mean     3.921011\n",
       "std      3.795588\n",
       "min      3.000000\n",
       "25%      3.602060\n",
       "50%      3.812913\n",
       "75%      4.079181\n",
       "max      4.544068\n",
       "Name: LoanOriginalAmount, dtype: float64"
      ]
     },
     "execution_count": 152,
     "metadata": {},
     "output_type": "execute_result"
    }
   ],
   "source": [
    "#log transform the column description to get the min max for bins\n",
    "np.log10(df_loan_clean['LoanOriginalAmount'].describe())"
   ]
  },
  {
   "cell_type": "code",
   "execution_count": 95,
   "metadata": {
    "scrolled": true
   },
   "outputs": [
    {
     "data": {
      "image/png": "[encoded data removed]",
      "text/plain": [
       "<Figure size 576x360 with 1 Axes>"
      ]
     },
     "metadata": {
      "needs_background": "light"
     },
     "output_type": "display_data"
    }
   ],
   "source": [
    "# plot the log transformed \n",
    "log_binsize = 0.15\n",
    "bins = 10 ** np.arange(np.log10(df_loan_clean['LoanOriginalAmount'].min())-log_binsize, np.log10(df_loan_clean['LoanOriginalAmount'].max())+log_binsize, log_binsize)\n",
    "\n",
    "plt.figure(figsize=[8, 5])\n",
    "plt.hist(data = df_loan_clean, x = 'LoanOriginalAmount', bins = bins)\n",
    "plt.xscale('log')\n",
    "plt.xticks([500, 1e3, 2e3, 5e3, 1e4, 2e4,3e4, 4e4], [500, '1k', '2k', '5k', '10k', '20k', '30k', '40k'])\n",
    "plt.xlabel('LoanOriginalAmount ($)')\n",
    "plt.show()"
   ]
  },
  {
   "cell_type": "markdown",
   "metadata": {},
   "source": [
    ">Observation:\n",
    ">> The transformed plot shows a bimodal distribution with peak frequency about the 5k and 10k loan amount respectively. \n",
    ">> The scale chart shows that a large amount of the loan original amount falls in the middle range. While a very few number of the loan records has high loan original amount. "
   ]
  },
  {
   "cell_type": "markdown",
   "metadata": {},
   "source": [
    "Next we will look into the Prosper Rating and Income Range to get the distribution of the loan records on ordinal variables."
   ]
  },
  {
   "cell_type": "code",
   "execution_count": 104,
   "metadata": {},
   "outputs": [
    {
     "data": {
      "image/png": "[encoded data removed]",
      "text/plain": [
       "<Figure size 936x864 with 2 Axes>"
      ]
     },
     "metadata": {
      "needs_background": "light"
     },
     "output_type": "display_data"
    }
   ],
   "source": [
    "# let's plot the two together to get an idea of each ordinal variable's distribution.\n",
    "\n",
    "fig, ax = plt.subplots(nrows=2, figsize = [13,12])\n",
    "\n",
    "default_color = sb.color_palette()[0]\n",
    "sb.countplot(data = df_loan_clean, x = 'ProsperRating (Alpha)', color = default_color, ax = ax[0])\n",
    "sb.countplot(data = df_loan_clean, x = 'IncomeRange', color = default_color, ax = ax[1])\n",
    "\n",
    "plt.show()"
   ]
  },
  {
   "cell_type": "markdown",
   "metadata": {},
   "source": [
    ">Observation:\n",
    "    >> Most of the loan have average prosper rating as seen with a high frequency count for C.\n",
    "    >> Large amount of the loan records are on borrowers with income range between 25,000 and 75,000 dollars."
   ]
  },
  {
   "cell_type": "markdown",
   "metadata": {},
   "source": [
    "Furthermore, Let's veiw the distribution for norminal variables"
   ]
  },
  {
   "cell_type": "code",
   "execution_count": 108,
   "metadata": {},
   "outputs": [
    {
     "data": {
      "image/png": "[encoded data removed]",
      "text/plain": [
       "<Figure size 1440x720 with 3 Axes>"
      ]
     },
     "metadata": {
      "needs_background": "light"
     },
     "output_type": "display_data"
    }
   ],
   "source": [
    "# let's plot occupation and employment status together to get an idea of each norminal variable's distribution.\n",
    "\n",
    "fig, ax = plt.subplots(nrows=3, figsize = [20,10])\n",
    "\n",
    "default_color = sb.color_palette()[0]\n",
    "sb.countplot(data = df_loan_clean, x = 'EmploymentStatus', color = default_color, ax = ax[0])\n",
    "sb.countplot(data = df_loan_clean, x = 'ListingCategory', color = default_color, ax = ax[2])\n",
    "sb.countplot(data = df_loan_clean, x = 'Occupation', color = default_color, ax = ax[1])\n",
    "plt.xticks(\n",
    "    rotation=45, \n",
    "    horizontalalignment='right',\n",
    "    fontweight='light',\n",
    "    fontsize='x-large'  \n",
    ")\n",
    "plt.show()"
   ]
  },
  {
   "cell_type": "markdown",
   "metadata": {},
   "source": [
    "> Observation:\n",
    ">> Majority of the loans where given for Debt Consolidation. Using the loan to pay off other loans\n",
    ">> From the norminal plot more loans are given to employed borrower as expected. There is an occupation with very high count in recieving loans. \n",
    "To check this we will need to plot the top 5 highest occupation with loans."
   ]
  },
  {
   "cell_type": "code",
   "execution_count": 155,
   "metadata": {},
   "outputs": [
    {
     "data": {
      "image/png": "[encoded data removed]",
      "text/plain": [
       "<Figure size 432x288 with 1 Axes>"
      ]
     },
     "metadata": {
      "needs_background": "light"
     },
     "output_type": "display_data"
    }
   ],
   "source": [
    "# further plot to get the top 5 occupation recieving loans\n",
    "df_loan_clean['Occupation'].value_counts().head(5).plot(kind = \"bar\")\n",
    "plt.xlabel('Occupation')\n",
    "plt.ylabel('count')\n",
    "plt.show()"
   ]
  },
  {
   "cell_type": "markdown",
   "metadata": {},
   "source": [
    ">> The bulk of the count falls in other category which is expected as many occupations not listed falls in this category."
   ]
  },
  {
   "cell_type": "markdown",
   "metadata": {},
   "source": [
    "Let's review the distribution of Stated Monthly Income given by the borrowers"
   ]
  },
  {
   "cell_type": "code",
   "execution_count": 157,
   "metadata": {},
   "outputs": [
    {
     "data": {
      "text/plain": [
       "count    1.139370e+05\n",
       "mean     5.608026e+03\n",
       "std      7.478497e+03\n",
       "min      0.000000e+00\n",
       "25%      3.200333e+03\n",
       "50%      4.666667e+03\n",
       "75%      6.825000e+03\n",
       "max      1.750003e+06\n",
       "Name: StatedMonthlyIncome, dtype: float64"
      ]
     },
     "execution_count": 157,
     "metadata": {},
     "output_type": "execute_result"
    }
   ],
   "source": [
    "# distribution of StatedMonthlyIncome\n",
    "#get an overview statistics of the column\n",
    "df_loan_clean['StatedMonthlyIncome'].describe()"
   ]
  },
  {
   "cell_type": "code",
   "execution_count": 158,
   "metadata": {
    "scrolled": true
   },
   "outputs": [
    {
     "data": {
      "image/png": "[encoded data removed]",
      "text/plain": [
       "<Figure size 576x360 with 1 Axes>"
      ]
     },
     "metadata": {
      "needs_background": "light"
     },
     "output_type": "display_data"
    }
   ],
   "source": [
    "binsize = 1000\n",
    "bins = np.arange(0, df_loan_clean['StatedMonthlyIncome'].max()+binsize, binsize)\n",
    "\n",
    "plt.figure(figsize=[8, 5])\n",
    "plt.hist(data = df_loan_clean, x = 'StatedMonthlyIncome', bins = bins)\n",
    "plt.xlabel('Stated Monthly Income ($)')\n",
    "plt.show()"
   ]
  },
  {
   "cell_type": "code",
   "execution_count": 159,
   "metadata": {},
   "outputs": [
    {
     "data": {
      "image/png": "[encoded data removed]",
      "text/plain": [
       "<Figure size 576x360 with 1 Axes>"
      ]
     },
     "metadata": {
      "needs_background": "light"
     },
     "output_type": "display_data"
    }
   ],
   "source": [
    "# let's investigate further on smaller bin size\n",
    "binsize = 250\n",
    "bins = np.arange(0, df_loan_clean['StatedMonthlyIncome'].max()+binsize, binsize)\n",
    "\n",
    "plt.figure(figsize=[8, 5])\n",
    "plt.hist(data = df_loan_clean, x = 'StatedMonthlyIncome', bins = bins)\n",
    "plt.xlabel('Stated Monthly Income ($)')\n",
    "plt.show()"
   ]
  },
  {
   "cell_type": "markdown",
   "metadata": {},
   "source": [
    ">Observation:\n",
    ">> There is a very large frequency spikes at lower stated monthly income.\n",
    "Let's trasnform the StatedMonthlyIncome to get a deep view of the distribution"
   ]
  },
  {
   "cell_type": "code",
   "execution_count": 147,
   "metadata": {},
   "outputs": [
    {
     "data": {
      "text/plain": [
       "count    5.056665\n",
       "mean     3.748810\n",
       "std      3.873814\n",
       "min          -inf\n",
       "25%      3.505195\n",
       "50%      3.669007\n",
       "75%      3.834103\n",
       "max      6.243039\n",
       "Name: StatedMonthlyIncome, dtype: float64"
      ]
     },
     "execution_count": 147,
     "metadata": {},
     "output_type": "execute_result"
    }
   ],
   "source": [
    "np.log10(df_loan_clean['StatedMonthlyIncome'].describe())"
   ]
  },
  {
   "cell_type": "code",
   "execution_count": 160,
   "metadata": {},
   "outputs": [
    {
     "data": {
      "image/png": "[encoded data removed]",
      "text/plain": [
       "<Figure size 576x360 with 1 Axes>"
      ]
     },
     "metadata": {
      "needs_background": "light"
     },
     "output_type": "display_data"
    }
   ],
   "source": [
    "# log transformed plot for deeper investigation \n",
    "log_binsize = 0.1\n",
    "bins = 10 ** np.arange(2, np.log10(df_loan_clean['StatedMonthlyIncome'].max())+log_binsize, log_binsize)\n",
    "\n",
    "plt.figure(figsize=[8, 5])\n",
    "plt.hist(data = df_loan_clean, x = 'StatedMonthlyIncome', bins = bins)\n",
    "plt.xscale('log')\n",
    "plt.xticks([0.1e3,0.5e3, 1e3,2e3,3e3,5e3,10e3,20e3, 50e3, 200e3, 800e3, 2000e3], ['100','500' ,'1k','2k','3k','5k','10k', '20k', '50k', '200k', '800k', '2M'])\n",
    "plt.xlabel('StatedMonthlyIncome ($)')\n",
    "plt.show()"
   ]
  },
  {
   "cell_type": "markdown",
   "metadata": {},
   "source": [
    "> Observation: \n",
    "    >> From the chart, Stated Monthly Income has a normal distribution which is expected that loan will be requested more from less earning borrowers while from this number loan will be given more to borrowers with average Stated Monthly Income "
   ]
  },
  {
   "cell_type": "markdown",
   "metadata": {},
   "source": [
    "### Discuss the distribution(s) of your variable(s) of interest. Were there any unusual points? Did you need to perform any transformations?\n",
    "\n",
    "> From the variables of core interest, Loan Original Amount distribution was skewed to the right and log transformation was needed to give nore details into the distribution. Same occured for Stated Monthly Income which the log transformation showed that the distribution was normal.\n",
    "\n",
    "### Of the features you investigated, were there any unusual distributions? Did you perform any operations on the data to tidy, adjust, or change the form of the data? If so, why did you do this?\n",
    "\n",
    "> No adjustment was made to the data used as the variables distribution came out as expected."
   ]
  },
  {
   "cell_type": "markdown",
   "metadata": {},
   "source": [
    "## Bivariate Exploration\n",
    "\n",
    "> In this section, investigate relationships between pairs of variables in your\n",
    "data. Make sure the variables that you cover here have been introduced in some\n",
    "fashion in the previous section (univariate exploration)."
   ]
  },
  {
   "cell_type": "code",
   "execution_count": null,
   "metadata": {},
   "outputs": [],
   "source": []
  },
  {
   "cell_type": "markdown",
   "metadata": {},
   "source": [
    "### Talk about some of the relationships you observed in this part of the investigation. How did the feature(s) of interest vary with other features in the dataset?\n",
    "\n",
    "> Your answer here!\n",
    "\n",
    "### Did you observe any interesting relationships between the other features (not the main feature(s) of interest)?\n",
    "\n",
    "> Your answer here!"
   ]
  },
  {
   "cell_type": "markdown",
   "metadata": {},
   "source": [
    "## Multivariate Exploration\n",
    "\n",
    "> Create plots of three or more variables to investigate your data even\n",
    "further. Make sure that your investigations are justified, and follow from\n",
    "your work in the previous sections."
   ]
  },
  {
   "cell_type": "code",
   "execution_count": null,
   "metadata": {},
   "outputs": [],
   "source": []
  },
  {
   "cell_type": "markdown",
   "metadata": {},
   "source": [
    "### Talk about some of the relationships you observed in this part of the investigation. Were there features that strengthened each other in terms of looking at your feature(s) of interest?\n",
    "\n",
    "> Your answer here!\n",
    "\n",
    "### Were there any interesting or surprising interactions between features?\n",
    "\n",
    "> Your answer here!"
   ]
  },
  {
   "cell_type": "markdown",
   "metadata": {},
   "source": [
    "## Conclusions\n",
    ">You can write a summary of the main findings and reflect on the steps taken during the data exploration.\n"
   ]
  },
  {
   "cell_type": "markdown",
   "metadata": {},
   "source": [
    "\n",
    "> Remove all Tips mentioned above, before you convert this notebook to PDF/HTML\n",
    "\n",
    "\n",
    "> At the end of your report, make sure that you export the notebook as an\n",
    "html file from the `File > Download as... > HTML or PDF` menu. Make sure you keep\n",
    "track of where the exported file goes, so you can put it in the same folder\n",
    "as this notebook for project submission. Also, make sure you remove all of\n",
    "the quote-formatted guide notes like this one before you finish your report!\n",
    "\n"
   ]
  },
  {
   "cell_type": "code",
   "execution_count": null,
   "metadata": {},
   "outputs": [],
   "source": []
  }
 ],
 "metadata": {
  "kernelspec": {
   "display_name": "Python 3",
   "language": "python",
   "name": "python3"
  },
  "language_info": {
   "codemirror_mode": {
    "name": "ipython",
    "version": 3
   },
   "file_extension": ".py",
   "mimetype": "text/x-python",
   "name": "python",
   "nbconvert_exporter": "python",
   "pygments_lexer": "ipython3",
   "version": "3.7.6"
  }
 },
 "nbformat": 4,
 "nbformat_minor": 2
}
